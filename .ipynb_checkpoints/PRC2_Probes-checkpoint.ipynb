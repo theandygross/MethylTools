{
 "cells": [
  {
   "cell_type": "markdown",
   "metadata": {},
   "source": [
    "# Read PRC2 Probes"
   ]
  },
  {
   "cell_type": "markdown",
   "metadata": {},
   "source": [
    "One-off script to process PRC2 annotations into a unified track mapping CpG probes to whether or not they are annotated to a PRC2 binding site. This reads in BED files from five different cell lines and calls a site as bound if the majority of the cell lines agree (3+/5). Takes a while to run, but really only needs to be done once."
   ]
  },
  {
   "cell_type": "code",
   "execution_count": 1,
   "metadata": {
    "collapsed": false
   },
   "outputs": [
    {
     "data": {
      "text/html": [
       "importing IPython notebook from <a href='./Imports.ipynb' target='_blank'>Imports</a>"
      ]
     },
     "metadata": {},
     "output_type": "display_data"
    }
   ],
   "source": [
    "import NotebookImport\n",
    "from Imports import *"
   ]
  },
  {
   "cell_type": "code",
   "execution_count": 2,
   "metadata": {
    "collapsed": false
   },
   "outputs": [
    {
     "name": "stdout",
     "output_type": "stream",
     "text": [
      "Reading in PRC2 probes\n"
     ]
    }
   ],
   "source": [
    "print 'Reading in PRC2 probes'"
   ]
  },
  {
   "cell_type": "code",
   "execution_count": 3,
   "metadata": {
    "collapsed": true
   },
   "outputs": [],
   "source": [
    "probe_annotations = pd.read_hdf(DATA_STORE, 'probe_annotations')"
   ]
  },
  {
   "cell_type": "code",
   "execution_count": 4,
   "metadata": {
    "collapsed": true
   },
   "outputs": [],
   "source": [
    "path = './Data/PRC2_Binding/'"
   ]
  },
  {
   "cell_type": "code",
   "execution_count": null,
   "metadata": {
    "collapsed": false
   },
   "outputs": [],
   "source": [
    "r = {}\n",
    "for f in os.listdir(path):\n",
    "    df = pd.read_table(path + f, header=None, \n",
    "                       names=['chr','start','end','name','score','sig'])\n",
    "    df['chr'] = df['chr'].str.replace('chr','')\n",
    "\n",
    "    res = {}\n",
    "    for c in df['chr'].unique():\n",
    "        df_c = probe_annotations[probe_annotations.Chromosome == c]\n",
    "        coord = df_c.Genomic_Coordinate.astype(float)\n",
    "        test_p = lambda p: (coord >= p.start) & (coord <= p.end)\n",
    "        res[c] = df[df.chr == c].apply(test_p, 1).any()\n",
    "    res = pd.concat(res).groupby(level=1).sum()\n",
    "    r[f] = res\n",
    "r = pd.concat(r, 1)"
   ]
  },
  {
   "cell_type": "code",
   "execution_count": null,
   "metadata": {
    "collapsed": true
   },
   "outputs": [],
   "source": [
    "r.to_csv(path + 'mapped_to_methylation_probes.csv')"
   ]
  },
  {
   "cell_type": "markdown",
   "metadata": {},
   "source": [
    "I'm using a cutoff of 3/5 datasets to annotate a binding site."
   ]
  },
  {
   "cell_type": "code",
   "execution_count": null,
   "metadata": {
    "collapsed": true
   },
   "outputs": [],
   "source": [
    "prc2_probes = r.sum(1)>2"
   ]
  }
 ],
 "metadata": {
  "kernelspec": {
   "display_name": "Python 2",
   "language": "python",
   "name": "python2"
  },
  "language_info": {
   "codemirror_mode": {
    "name": "ipython",
    "version": 2
   },
   "file_extension": ".py",
   "mimetype": "text/x-python",
   "name": "python",
   "nbconvert_exporter": "python",
   "pygments_lexer": "ipython2",
   "version": "2.7.9"
  }
 },
 "nbformat": 4,
 "nbformat_minor": 0
}
