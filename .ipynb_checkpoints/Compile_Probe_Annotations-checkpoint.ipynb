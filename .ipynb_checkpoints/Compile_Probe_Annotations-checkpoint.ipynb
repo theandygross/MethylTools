{
 "cells": [
  {
   "cell_type": "markdown",
   "metadata": {},
   "source": [
    "# Compile Probe Annotations"
   ]
  },
  {
   "cell_type": "code",
   "execution_count": 16,
   "metadata": {
    "collapsed": false
   },
   "outputs": [
    {
     "data": {
      "text/html": [
       "importing IPython notebook from <a href='./Imports.ipynb' target='_blank'>Imports</a>"
      ]
     },
     "metadata": {},
     "output_type": "display_data"
    }
   ],
   "source": [
    "import NotebookImport\n",
    "from Imports import *"
   ]
  },
  {
   "cell_type": "markdown",
   "metadata": {},
   "source": [
    "Got to do this in rpy2"
   ]
  },
  {
   "cell_type": "code",
   "execution_count": 1,
   "metadata": {
    "collapsed": true
   },
   "outputs": [],
   "source": [
    "%load_ext rpy2.ipython"
   ]
  },
  {
   "cell_type": "code",
   "execution_count": 2,
   "metadata": {
    "collapsed": true
   },
   "outputs": [],
   "source": [
    "import pandas as pd\n",
    "\n",
    "from pandas.rpy.common import convert_robj\n",
    "import rpy2.robjects as robjects\n",
    "from pandas.rpy.common import convert_to_r_dataframe, convert_robj"
   ]
  },
  {
   "cell_type": "code",
   "execution_count": 3,
   "metadata": {
    "collapsed": false
   },
   "outputs": [
    {
     "data": {
      "text/plain": [
       "Loading required package: IlluminaHumanMethylation450kanno.ilmn12.hg19\n",
       "Loading required package: minfi\n",
       "Loading required package: BiocGenerics\n",
       "Loading required package: parallel\n",
       "\n",
       "Attaching package: ‘BiocGenerics’\n",
       "\n",
       "The following objects are masked from ‘package:parallel’:\n",
       "\n",
       "    clusterApply, clusterApplyLB, clusterCall, clusterEvalQ,\n",
       "    clusterExport, clusterMap, parApply, parCapply, parLapply,\n",
       "    parLapplyLB, parRapply, parSapply, parSapplyLB\n",
       "\n",
       "The following object is masked from ‘package:stats’:\n",
       "\n",
       "    xtabs\n",
       "\n",
       "The following objects are masked from ‘package:base’:\n",
       "\n",
       "    anyDuplicated, append, as.data.frame, as.vector, cbind, colnames,\n",
       "    duplicated, eval, evalq, Filter, Find, get, intersect, is.unsorted,\n",
       "    lapply, Map, mapply, match, mget, order, paste, pmax, pmax.int,\n",
       "    pmin, pmin.int, Position, rank, rbind, Reduce, rep.int, rownames,\n",
       "    sapply, setdiff, sort, table, tapply, union, unique, unlist\n",
       "\n",
       "Loading required package: Biobase\n",
       "Welcome to Bioconductor\n",
       "\n",
       "    Vignettes contain introductory material; view with\n",
       "    'browseVignettes()'. To cite Bioconductor, see\n",
       "    'citation(\"Biobase\")', and for packages 'citation(\"pkgname\")'.\n",
       "\n",
       "Loading required package: lattice\n",
       "Loading required package: reshape\n",
       "Loading required package: GenomicRanges\n",
       "Loading required package: IRanges\n",
       "\n",
       "Attaching package: ‘IRanges’\n",
       "\n",
       "The following objects are masked from ‘package:reshape’:\n",
       "\n",
       "    expand, rename\n",
       "\n",
       "Loading required package: XVector\n",
       "Loading required package: Biostrings\n",
       "Loading required package: bumphunter\n",
       "Loading required package: foreach\n",
       "foreach: simple, scalable parallel programming from Revolution Analytics\n",
       "Use Revolution R for scalability, fault tolerance and more.\n",
       "http://www.revolutionanalytics.com\n",
       "Loading required package: iterators\n",
       "Loading required package: locfit\n",
       "locfit 1.5-9.1 \t 2013-03-22\n",
       "\n",
       "Attaching package: ‘locfit’\n",
       "\n",
       "The following objects are masked from ‘package:GenomicRanges’:\n",
       "\n",
       "    left, right\n",
       "\n"
      ]
     },
     "metadata": {},
     "output_type": "display_data"
    }
   ],
   "source": [
    "%%R\n",
    "require('IlluminaHumanMethylation450kanno.ilmn12.hg19')\n",
    "ann = IlluminaHumanMethylation450kanno.ilmn12.hg19\n",
    "data = ann@data"
   ]
  },
  {
   "cell_type": "code",
   "execution_count": 4,
   "metadata": {
    "collapsed": true
   },
   "outputs": [],
   "source": [
    "islands = convert_robj(robjects.r(\"data.frame(data[['Islands.UCSC']])\"))\n",
    "locations = convert_robj(robjects.r(\"data.frame(data[['Locations']])\"))\n",
    "other = convert_robj(robjects.r(\"data.frame(data[['Other']])\"))\n",
    "other = other.ix[:, 2:] #first two columns are probe sequences which take up a lot of space\n",
    "snps = convert_robj(robjects.r(\"data.frame(data[['SNPs.Illumina']])\"))"
   ]
  },
  {
   "cell_type": "code",
   "execution_count": 5,
   "metadata": {
    "collapsed": true
   },
   "outputs": [],
   "source": [
    "PATH = './Data/methylation450_annotations.csv'\n",
    "probe_annotations = pd.read_csv(PATH, index_col=0)"
   ]
  },
  {
   "cell_type": "code",
   "execution_count": 7,
   "metadata": {
    "collapsed": true
   },
   "outputs": [],
   "source": [
    "store = pd.HDFStore(DATA_STORE)\n",
    "store.append('islands', islands)\n",
    "store.create_table_index('islands', optlevel=9, kind='full')\n",
    "store.append('locations', locations)\n",
    "store.create_table_index('locations', optlevel=9, kind='full')\n",
    "store.append('other', other)\n",
    "store.create_table_index('other', optlevel=9, kind='full')\n",
    "store.append('snps', snps)\n",
    "store.create_table_index('snps', optlevel=9, kind='full')\n",
    "store.append('probe_annotations', probe_annotations)\n",
    "store.create_table_index('probe_annotations', optlevel=9, kind='full')"
   ]
  },
  {
   "cell_type": "markdown",
   "metadata": {},
   "source": [
    "#### Mapping Islands on to genes"
   ]
  },
  {
   "cell_type": "code",
   "execution_count": 11,
   "metadata": {
    "collapsed": true
   },
   "outputs": [],
   "source": [
    "ti = lambda s: s[s].index \n",
    "isl = islands.sort(['Islands_Name','Relation_to_Island']).dropna()\n",
    "isl = isl[isl.Islands_Name.isin(ti(isl.Islands_Name.value_counts() > 7))]\n",
    "isl = isl[isl.Islands_Name != '']\n",
    "\n",
    "ot = other.Regulatory_Feature_Name\n",
    "ot = ot[ot.isin(ti(ot.value_counts()> 7))]\n",
    "\n",
    "gb = pd.concat([isl, probe_annotations], axis=1)\n",
    "gb = gb[gb.Gene_Symbol.notnull() & gb.Islands_Name.notnull()]\n",
    "g2 = gb.sort('Islands_Name')\n",
    "\n",
    "top_gene = lambda s: s.Gene_Symbol.value_counts().index[0]\n",
    "island_to_gene = g2.groupby('Islands_Name').apply(top_gene)\n",
    "probe_to_island = isl\n",
    "store['probe_to_island'] = probe_to_island\n",
    "store['island_to_gene'] = island_to_gene"
   ]
  },
  {
   "cell_type": "markdown",
   "metadata": {},
   "source": [
    "### Read in Flow Sorted Data and Convert to More Usable Format"
   ]
  },
  {
   "cell_type": "code",
   "execution_count": 8,
   "metadata": {
    "collapsed": false
   },
   "outputs": [
    {
     "data": {
      "text/plain": [
       "Loading required package: minfiData\n",
       "Loading required package: IlluminaHumanMethylation450kmanifest\n",
       "Loading required package: doParallel\n",
       "Loading required package: FlowSorted.Blood.450k\n"
      ]
     },
     "metadata": {},
     "output_type": "display_data"
    }
   ],
   "source": [
    "%%R\n",
    "require(minfi)\n",
    "require(minfiData)\n",
    "require(doParallel)\n",
    "\n",
    "referencePkg <- \"FlowSorted.Blood.450k\"\n",
    "require(referencePkg, character.only = TRUE)\n",
    "data(list = referencePkg)\n",
    "referenceRGset <- get(referencePkg)"
   ]
  },
  {
   "cell_type": "code",
   "execution_count": 9,
   "metadata": {
    "collapsed": false
   },
   "outputs": [
    {
     "data": {
      "text/plain": [
       "[preprocessQuantile] Mapping to genome.\n",
       "[preprocessQuantile] Fixing outliers.\n",
       "[preprocessQuantile] Quantile normalizing.\n"
      ]
     },
     "metadata": {},
     "output_type": "display_data"
    }
   ],
   "source": [
    "%%R\n",
    "Mset.quantile = preprocessQuantile(referenceRGset, removeBadSamples = TRUE)\n",
    "beta = getBeta(Mset.quantile)"
   ]
  },
  {
   "cell_type": "code",
   "execution_count": 10,
   "metadata": {
    "collapsed": true
   },
   "outputs": [],
   "source": [
    "beta = convert_robj(robjects.r(\"data.frame(beta)\"))"
   ]
  },
  {
   "cell_type": "code",
   "execution_count": 11,
   "metadata": {
    "collapsed": true
   },
   "outputs": [],
   "source": [
    "labels = convert_robj(robjects.r('referenceRGset$CellType'))\n",
    "label_map = pd.Series(labels, beta.columns)"
   ]
  },
  {
   "cell_type": "code",
   "execution_count": 12,
   "metadata": {
    "collapsed": true
   },
   "outputs": [],
   "source": [
    "store['label_map'] = label_map"
   ]
  },
  {
   "cell_type": "code",
   "execution_count": 13,
   "metadata": {
    "collapsed": true
   },
   "outputs": [],
   "source": [
    "beta.to_hdf(store,'flow_sorted_data')"
   ]
  },
  {
   "cell_type": "code",
   "execution_count": 14,
   "metadata": {
    "collapsed": true
   },
   "outputs": [],
   "source": [
    "store.close()"
   ]
  }
 ],
 "metadata": {
  "kernelspec": {
   "display_name": "Python 2",
   "language": "python",
   "name": "python2"
  },
  "language_info": {
   "codemirror_mode": {
    "name": "ipython",
    "version": 2
   },
   "file_extension": ".py",
   "mimetype": "text/x-python",
   "name": "python",
   "nbconvert_exporter": "python",
   "pygments_lexer": "ipython2",
   "version": "2.7.9"
  }
 },
 "nbformat": 4,
 "nbformat_minor": 0
}
