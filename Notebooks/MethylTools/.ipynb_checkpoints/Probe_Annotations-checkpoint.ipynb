{
 "cells": [
  {
   "cell_type": "markdown",
   "metadata": {},
   "source": [
    "# Read in Probe Annotations"
   ]
  },
  {
   "cell_type": "markdown",
   "metadata": {},
   "source": [
    "* These are parsed out in [Compile_Probe_Annoations](./Compile_Probe_Annotations.ipynb) notebook."
   ]
  },
  {
   "cell_type": "code",
   "execution_count": 10,
   "metadata": {
    "collapsed": true
   },
   "outputs": [],
   "source": [
    "import pandas as pd"
   ]
  },
  {
   "cell_type": "code",
   "execution_count": 11,
   "metadata": {
    "collapsed": true
   },
   "outputs": [],
   "source": [
    "DATA_STORE = '/data_ssd/methylation_annotation_2.h5'"
   ]
  },
  {
   "cell_type": "code",
   "execution_count": 12,
   "metadata": {
    "collapsed": false
   },
   "outputs": [],
   "source": [
    "store = pd.HDFStore(DATA_STORE)\n",
    "islands = pd.read_hdf(DATA_STORE, 'islands')\n",
    "locations = pd.read_hdf(DATA_STORE, 'locations')\n",
    "other = pd.read_hdf(DATA_STORE, 'other')\n",
    "snps = pd.read_hdf(DATA_STORE, 'snps')\n",
    "probe_annotations = pd.read_hdf(DATA_STORE, 'probe_annotations')\n",
    "probe_to_island = store['probe_to_island']\n",
    "island_to_gene = store['island_to_gene']"
   ]
  },
  {
   "cell_type": "markdown",
   "metadata": {},
   "source": [
    "#### Auxilary function to map a data-vector from probes onto CpG Islands "
   ]
  },
  {
   "cell_type": "code",
   "execution_count": 13,
   "metadata": {
    "collapsed": false
   },
   "outputs": [],
   "source": [
    "def map_to_islands(s):\n",
    "    '''\n",
    "    s is a Series of measurments on the probe level.\n",
    "    '''\n",
    "    on_island = s.groupby(island_to_gene.Islands_Name).mean().order()\n",
    "    \n",
    "    v = pd.concat([island_to_gene, on_island], axis=1).set_index(0)[1]\n",
    "    islands_mapped_to_genes = v.groupby(level=0).mean().order()\n",
    "    return on_island, islands_mapped_to_genes"
   ]
  },
  {
   "cell_type": "markdown",
   "metadata": {},
   "source": [
    "#### Helper for making CpG island plots"
   ]
  },
  {
   "cell_type": "code",
   "execution_count": 14,
   "metadata": {
    "collapsed": true
   },
   "outputs": [],
   "source": [
    "def island_plot_maker(df, split, islands, ann, colors=None):\n",
    "    '''\n",
    "    df:      a DataFrame of probe beta values\n",
    "    islands: a DataFrame mapping probes to CpG islands and \n",
    "             annotations\n",
    "    ann:     a DataFrame mapping probes to gene annotations\n",
    "             and genomic coordinates of probe\n",
    "    '''\n",
    "    if colors is None:\n",
    "        colors = colors_st\n",
    "    groups = split.dropna().unique()\n",
    "    assert len(groups) == 2\n",
    "    \n",
    "    def f(region):\n",
    "        p = ti(islands.Islands_Name == region)\n",
    "        p3 = ann.ix[p].join(islands.ix[p]).sort('Genomic_Coordinate')\n",
    "        p = p3.index\n",
    "        in_island = ti(p3.Relation_to_Island == 'Island')\n",
    "        \n",
    "        fig, ax = subplots(figsize=(10,4))\n",
    "        for i,g in enumerate(groups):\n",
    "            ax.scatter(p3.Genomic_Coordinate, df[ti(split == g)].ix[p].mean(1),\n",
    "                       color=colors[i], label=g)\n",
    "        ax.axvspan(p3.Genomic_Coordinate.ix[in_island[0]] - 30, \n",
    "                   p3.Genomic_Coordinate.ix[in_island[-1]] + 30, \n",
    "                   alpha=.2, color=colors[2], label='Island')\n",
    "        ax.set_xlabel('Genomic Coordinate')\n",
    "        ax.set_ylabel('Beta Value')\n",
    "        ax.legend(loc='lower right', fancybox=True)\n",
    "        prettify_ax(ax)\n",
    "    return f"
   ]
  },
  {
   "cell_type": "markdown",
   "metadata": {},
   "source": [
    "### Create annotation probe sets"
   ]
  },
  {
   "cell_type": "code",
   "execution_count": 15,
   "metadata": {
    "collapsed": false
   },
   "outputs": [],
   "source": [
    "cpg_island = probe_to_island.Relation_to_Island == 'Island'\n",
    "dhs_site = other.DHS == 'TRUE'\n",
    "enhancer = other.Enhancer == 'TRUE'\n",
    "gene_body = other.UCSC_RefGene_Group.str.contains('Body')\n",
    "gene_tss = other.UCSC_RefGene_Group.str.contains('TSS')\n",
    "promoter = other.Regulatory_Feature_Group.str.contains('Promoter_Associated')"
   ]
  },
  {
   "cell_type": "markdown",
   "metadata": {},
   "source": [
    "PRC2 probe annotations are initiallized in [PRC2 Probes](./PRC2_Probes.ipynb) notbook."
   ]
  },
  {
   "cell_type": "code",
   "execution_count": 16,
   "metadata": {
    "collapsed": false
   },
   "outputs": [],
   "source": [
    "p = '/cellar/users/agross/TCGA_Code/MethylTools/Data/PRC2_Binding/'\n",
    "prc2_probes = pd.read_csv(p + 'mapped_to_methylation_probes.csv',\n",
    "                          index_col=0)\n",
    "prc2_probes = prc2_probes.sum(1)>2"
   ]
  },
  {
   "cell_type": "code",
   "execution_count": 17,
   "metadata": {
    "collapsed": true
   },
   "outputs": [],
   "source": [
    "probe_sets = {'PRC2': prc2_probes, 'CpG Island': cpg_island,\n",
    "              'DHS Site': dhs_site, 'Enhancer': enhancer,\n",
    "              'Gene Body': gene_body, 'TSS': gene_tss,\n",
    "              'Promoter': promoter}"
   ]
  }
 ],
 "metadata": {
  "kernelspec": {
   "display_name": "Python 2",
   "language": "python",
   "name": "python2"
  },
  "language_info": {
   "codemirror_mode": {
    "name": "ipython",
    "version": 2
   },
   "file_extension": ".py",
   "mimetype": "text/x-python",
   "name": "python",
   "nbconvert_exporter": "python",
   "pygments_lexer": "ipython2",
   "version": "2.7.9"
  }
 },
 "nbformat": 4,
 "nbformat_minor": 0
}
