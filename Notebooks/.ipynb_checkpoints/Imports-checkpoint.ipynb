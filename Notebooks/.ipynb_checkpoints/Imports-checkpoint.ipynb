{
 "cells": [
  {
   "cell_type": "markdown",
   "metadata": {},
   "source": [
    "# Imports"
   ]
  },
  {
   "cell_type": "code",
   "execution_count": 1,
   "metadata": {
    "collapsed": true
   },
   "outputs": [],
   "source": [
    "import pandas as pd\n",
    "import os as os"
   ]
  },
  {
   "cell_type": "code",
   "execution_count": 2,
   "metadata": {
    "collapsed": true
   },
   "outputs": [],
   "source": [
    "DATA_STORE = '/data_ssd/methylation_annotation_2.h5'"
   ]
  },
  {
   "cell_type": "markdown",
   "metadata": {},
   "source": [
    "Logit adjustment, while clipping extreme values, recomended for methylation data. "
   ]
  },
  {
   "cell_type": "code",
   "execution_count": 3,
   "metadata": {
    "collapsed": true
   },
   "outputs": [],
   "source": [
    "from scipy.special import logit\n",
    "\n",
    "logit_adj = lambda df: logit(df.clip(.001, .999))"
   ]
  },
  {
   "cell_type": "markdown",
   "metadata": {},
   "source": [
    "#### Some functions for dealing with entropy of methylation data"
   ]
  },
  {
   "cell_type": "code",
   "execution_count": 4,
   "metadata": {
    "collapsed": true
   },
   "outputs": [],
   "source": [
    "def entropy(p):\n",
    "    '''\n",
    "    Entropy of a methylaion vector. Here we assume 50% methylation is \n",
    "    random and 0 or 1 constitute an informative measument. \n",
    "    '''\n",
    "    q = 1. - p\n",
    "    s = np.sum((p*np.log(p)) + (q*np.log(q))) / (np.log(.5) * len(p))\n",
    "    s.name = 'Entropy'\n",
    "    return s\n",
    "\n",
    "\n",
    "def svd_entropy(df):\n",
    "    '''\n",
    "    Entropy of a matrix as calculated by the spread singular values in its \n",
    "    decomposition.\n",
    "    '''\n",
    "    U,S,vH = frame_svd(df)\n",
    "    p = S ** 2 / sum(S ** 2)\n",
    "    entropy = -1 * sum((p * np.log(p))) / log(len(p))\n",
    "    return entropy\n",
    "\n",
    "\n",
    "def entropy_gain(split, df):\n",
    "    '''\n",
    "    Entropy gain of a matrix as the result of being split by a binary vector.\n",
    "    '''\n",
    "    df = df.ix[:, split.index]\n",
    "    h_all = svd_entropy(df)\n",
    "    h_1 = svd_entropy(df.ix[:, ti(split)])\n",
    "    h_0 = svd_entropy(df.ix[:, ti(split==False)])\n",
    "    ratio = h_all - (h_1*split.mean() + h_0*(1-split.mean()))\n",
    "    return pd.Series({'gain':ratio, 'h_all': h_all, 'h_0':h_0, 'h_1':h_1})"
   ]
  },
  {
   "cell_type": "markdown",
   "metadata": {},
   "source": [
    "####Read in Gene Sets  "
   ]
  },
  {
   "cell_type": "code",
   "execution_count": 9,
   "metadata": {
    "collapsed": false,
    "scrolled": true
   },
   "outputs": [],
   "source": [
    "from Data.Annotations import unstack_geneset_csv\n",
    "\n",
    "GENE_SETS = '/cellar/users/agross/Data/GeneSets/c2.cp.v5.csv'\n",
    "gene_sets = unstack_geneset_csv(GENE_SETS)"
   ]
  }
 ],
 "metadata": {
  "kernelspec": {
   "display_name": "Python 2",
   "language": "python",
   "name": "python2"
  },
  "language_info": {
   "codemirror_mode": {
    "name": "ipython",
    "version": 2
   },
   "file_extension": ".py",
   "mimetype": "text/x-python",
   "name": "python",
   "nbconvert_exporter": "python",
   "pygments_lexer": "ipython2",
   "version": "2.7.9"
  }
 },
 "nbformat": 4,
 "nbformat_minor": 0
}
